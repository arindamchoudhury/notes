{
 "cells": [
  {
   "cell_type": "markdown",
   "metadata": {},
   "source": [
    "## Working with gitpython\n"
   ]
  },
  {
   "cell_type": "code",
   "execution_count": null,
   "metadata": {
    "vscode": {
     "languageId": "plaintext"
    }
   },
   "outputs": [],
   "source": [
    "pip install -U gitpython"
   ]
  },
  {
   "cell_type": "code",
   "execution_count": null,
   "metadata": {
    "vscode": {
     "languageId": "plaintext"
    }
   },
   "outputs": [],
   "source": [
    "from git import Repo\n",
    "import os"
   ]
  },
  {
   "cell_type": "code",
   "execution_count": null,
   "metadata": {
    "vscode": {
     "languageId": "plaintext"
    }
   },
   "outputs": [],
   "source": [
    "repo = Repo(os.getcwd())\n",
    "\n",
    "# check if repo is dirty\n",
    "repo.is_dirty()\n",
    "\n",
    "# Untracked files\n",
    "repo.untracked_files\n",
    "\n",
    "# Changes not staged for commit\n",
    "index = repo.index\n",
    "for (_path, _stage), entry in index.entries.items():\n",
    "    print(_path, _stage, entry)\n",
    "\n",
    "# get updated files list\n",
    "for item in repo.index.diff('a4ef55f1a1f174be7b010b6aed3e621af8878399'):\n",
    "    print(item.a_path)"
   ]
  }
 ],
 "metadata": {
  "language_info": {
   "name": "python"
  },
  "orig_nbformat": 4
 },
 "nbformat": 4,
 "nbformat_minor": 2
}
